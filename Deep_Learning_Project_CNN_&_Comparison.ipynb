{
  "cells": [
    {
      "cell_type": "markdown",
      "source": [
        "# **MUHAMMAD WALEED KHAN-451539**,\n",
        "# **SAQLAIN AYUB-451612,**\n",
        "# **M. ZAKRIYA**\n",
        "\n",
        "*`DEEP LEARNING PROJECT`*\n",
        "\n",
        "`**IMAGE FORGERY USING CNN**`\n",
        "\n",
        "# SUBMITTED ON:*` 08-MAY-2024`*"
      ],
      "metadata": {
        "id": "jaABwduA9JZ8"
      }
    },
    {
      "cell_type": "code",
      "execution_count": 4,
      "metadata": {
        "colab": {
          "base_uri": "https://localhost:8080/"
        },
        "id": "uYY9LPYlJRAC",
        "outputId": "e09c504a-d25c-498c-85c5-e2960d52918b"
      },
      "outputs": [
        {
          "output_type": "stream",
          "name": "stdout",
          "text": [
            "Mounted at /content/drive\n"
          ]
        }
      ],
      "source": [
        "from google.colab import drive\n",
        "drive.mount('/content/drive')"
      ]
    },
    {
      "cell_type": "code",
      "execution_count": 22,
      "metadata": {
        "id": "fqJPYPfPrS_1"
      },
      "outputs": [],
      "source": [
        "import tensorflow as tf\n",
        "gpu_devices = tf.config.experimental.list_physical_devices('GPU')\n",
        "for device in gpu_devices: tf.config.experimental.set_memory_growth(device, True)"
      ]
    },
    {
      "cell_type": "code",
      "execution_count": 43,
      "metadata": {
        "id": "LihTV1zKsG_h"
      },
      "outputs": [],
      "source": [
        "import numpy as np\n",
        "import os\n",
        "import itertools\n",
        "import matplotlib.pyplot as plt\n",
        "import json\n",
        "import seaborn as sns\n",
        "\n",
        "%matplotlib inline\n",
        "from sklearn.model_selection import train_test_split\n",
        "from sklearn.metrics import confusion_matrix, classification_report\n",
        "from keras.models import Sequential, load_model\n",
        "from keras.layers import Dense, Flatten, Conv2D, MaxPool2D, Dropout, Activation, GlobalAveragePooling2D\n",
        "from keras.optimizers import Adam\n",
        "from keras.callbacks import EarlyStopping\n",
        "from PIL import Image, ImageChops, ImageEnhance\n",
        "from tqdm.notebook import tqdm"
      ]
    },
    {
      "cell_type": "code",
      "execution_count": 44,
      "metadata": {
        "id": "rPOC_ZLXsJp5"
      },
      "outputs": [],
      "source": [
        "#converts input image to ela applied image\n",
        "def convert_to_ela_image(path,quality):\n",
        "\n",
        "    original_image = Image.open(path).convert('RGB')\n",
        "\n",
        "    #resaving input image at the desired quality\n",
        "    resaved_file_name = 'resaved_image.jpg'     #predefined filename for resaved image\n",
        "    original_image.save(resaved_file_name,'JPEG',quality=quality)\n",
        "    resaved_image = Image.open(resaved_file_name)\n",
        "\n",
        "    #pixel difference between original and resaved image\n",
        "    ela_image = ImageChops.difference(original_image,resaved_image)\n",
        "\n",
        "    #scaling factors are calculated from pixel extremas\n",
        "    extrema = ela_image.getextrema()\n",
        "    max_difference = max([pix[1] for pix in extrema])\n",
        "    if max_difference ==0:\n",
        "        max_difference = 1\n",
        "    scale = 350.0 / max_difference\n",
        "\n",
        "    #enhancing elaimage to brighten the pixels\n",
        "    ela_image = ImageEnhance.Brightness(ela_image).enhance(scale)\n",
        "\n",
        "    ela_image.save(\"ela_image.png\")\n",
        "    return ela_image"
      ]
    },
    {
      "cell_type": "code",
      "execution_count": 25,
      "metadata": {
        "id": "zbA_TUBPsLgC"
      },
      "outputs": [],
      "source": [
        "from zipfile import ZipFile"
      ]
    },
    {
      "cell_type": "code",
      "execution_count": 26,
      "metadata": {
        "id": "_YhIcqvYso_p"
      },
      "outputs": [],
      "source": [
        "with ZipFile('drive/MyDrive/Data/MData.zip', 'r') as zipObj:\n",
        "  zipObj.extractall('drive/MyDrive/Data/test')"
      ]
    },
    {
      "cell_type": "code",
      "execution_count": 27,
      "metadata": {
        "id": "Wr-eo2ZWtRSh"
      },
      "outputs": [],
      "source": [
        "def prepare_image(image_path):\n",
        "    image_size = (128, 128)\n",
        "    return np.array(convert_to_ela_image(image_path, 90).resize(image_size)).flatten() / 255.0         #normalizing the array values obtained from input image"
      ]
    },
    {
      "cell_type": "code",
      "execution_count": 28,
      "metadata": {
        "id": "6WsW7wsMvVZD"
      },
      "outputs": [],
      "source": [
        "X = [] # ELA converted images\n",
        "Y = [] # 0 for fake, 1 for real"
      ]
    },
    {
      "cell_type": "code",
      "execution_count": 29,
      "metadata": {
        "colab": {
          "base_uri": "https://localhost:8080/",
          "height": 84,
          "referenced_widgets": [
            "3ec7d26aa68b4869a2b11fb0361940a2",
            "2cbb9591faff4adc84aea4b22cc65b20",
            "6779df0f9a534ace9408e04ce05db500",
            "d40c2385678b41b199ad5bc2215d44c6",
            "7993d4376ff448f5b58581e443547cf1",
            "6457e6c3ae904983a12b33be7b508188",
            "0540e7c9db2b426c8152239a98672463",
            "32b2c1349dee471582a2ef8310003cb6",
            "a59b5e01d8584d99a342b3abf19be168",
            "161c25837ff94dbe9246f9498f4bd631",
            "c807e848c28044d88299ff9b8f4d3af7"
          ]
        },
        "id": "jzqpF8vBvWOZ",
        "outputId": "10e67d8a-91ad-4da9-c3f3-0802e3ea8512"
      },
      "outputs": [
        {
          "output_type": "display_data",
          "data": {
            "text/plain": [
              "Processing Images :   0%|          | 0/800 [00:00<?, ?it/s]"
            ],
            "application/vnd.jupyter.widget-view+json": {
              "version_major": 2,
              "version_minor": 0,
              "model_id": "3ec7d26aa68b4869a2b11fb0361940a2"
            }
          },
          "metadata": {}
        },
        {
          "output_type": "stream",
          "name": "stdout",
          "text": [
            "Total images: 790\n",
            "Total labels: 790\n"
          ]
        }
      ],
      "source": [
        "#adding authentic images\n",
        "\n",
        "path = '/content/drive/MyDrive/Data/test/archives/CASIA1/Au'       #folder path of the authentic images in the dataset\n",
        "for filename in tqdm(os.listdir(path),desc=\"Processing Images : \"):\n",
        "    if filename.endswith('jpg') or filename.endswith('png'):\n",
        "        full_path = os.path.join(path, filename)\n",
        "        X.append(prepare_image(full_path))\n",
        "        Y.append(1)     # label for authentic images\n",
        "\n",
        "print(f'Total images: {len(X)}\\nTotal labels: {len(Y)}')"
      ]
    },
    {
      "cell_type": "code",
      "execution_count": 30,
      "metadata": {
        "colab": {
          "base_uri": "https://localhost:8080/",
          "height": 84,
          "referenced_widgets": [
            "2bc65110e0ff4141a667cb2d16a29701",
            "53426cae4c134f3dadeba51fa9ea45d3",
            "1ab5bce3ed274d46a935db7d79716e76",
            "4a7428a580934d67ac01533f330dea5d",
            "799bf51ccee040259da73e60d3fda474",
            "153d557e240a4083818ad2620e44defa",
            "c5b92344fdf74b15ba7d67df2ac7b683",
            "1971b21b53ed44b88146ea5112f7050e",
            "2caa0e87d9bb49c7a7e3680f8930db30",
            "816fee3bf95f4b56b698228cb232f43d",
            "4c4f1e8da59f41f391ac2fdbbb8b956f"
          ]
        },
        "id": "5CJ-XYsavozB",
        "outputId": "b51e5a4b-08ee-4c1c-bffd-a846dd47571d"
      },
      "outputs": [
        {
          "output_type": "display_data",
          "data": {
            "text/plain": [
              "Processing Images :   0%|          | 0/921 [00:00<?, ?it/s]"
            ],
            "application/vnd.jupyter.widget-view+json": {
              "version_major": 2,
              "version_minor": 0,
              "model_id": "2bc65110e0ff4141a667cb2d16a29701"
            }
          },
          "metadata": {}
        },
        {
          "output_type": "stream",
          "name": "stdout",
          "text": [
            "Total images: 1711\n",
            "Total labels: 1711\n"
          ]
        }
      ],
      "source": [
        "#adding forged images\n",
        "\n",
        "path = '/content/drive/MyDrive/Data/test/archives/CASIA1/Sp'       #folder path of the forged images in the dataset\n",
        "for filename in tqdm(os.listdir(path),desc=\"Processing Images : \"):\n",
        "    if filename.endswith('jpg') or filename.endswith('png'):\n",
        "        full_path = os.path.join(path, filename)\n",
        "        X.append(prepare_image(full_path))\n",
        "        Y.append(0)     # label for forged images\n",
        "\n",
        "print(f'Total images: {len(X)}\\nTotal labels: {len(Y)}')"
      ]
    },
    {
      "cell_type": "code",
      "execution_count": 31,
      "metadata": {
        "id": "p9QWf4TzxGnI"
      },
      "outputs": [],
      "source": [
        "X = np.array(X)\n",
        "Y = np.array(Y)\n",
        "X = X.reshape(-1, 128, 128, 3)"
      ]
    },
    {
      "cell_type": "code",
      "execution_count": 32,
      "metadata": {
        "colab": {
          "base_uri": "https://localhost:8080/",
          "height": 0
        },
        "id": "rOKT_KJ0xIOg",
        "outputId": "ecd3a85a-02ea-4fb6-e4ed-2b502e0f65f8"
      },
      "outputs": [
        {
          "output_type": "stream",
          "name": "stdout",
          "text": [
            "Training images: 1300 , Training labels: 1300\n",
            "Validation images: 325 , Validation labels: 325\n",
            "Test images: 86 , Test labels: 86\n"
          ]
        }
      ],
      "source": [
        "# Training : Validation : Testing = 76 : 19 : 5\n",
        "X_temp, X_test, Y_temp, Y_test = train_test_split(X, Y, test_size = 0.05, random_state=5)\n",
        "X_train, X_val, Y_train, Y_val = train_test_split(X_temp, Y_temp, test_size = 0.2, random_state=5)\n",
        "X = X.reshape(-1,1,1,1)\n",
        "\n",
        "print(f'Training images: {len(X_train)} , Training labels: {len(Y_train)}')\n",
        "print(f'Validation images: {len(X_val)} , Validation labels: {len(Y_val)}')\n",
        "print(f'Test images: {len(X_test)} , Test labels: {len(Y_test)}')"
      ]
    },
    {
      "cell_type": "code",
      "execution_count": 33,
      "metadata": {
        "id": "MBqKJAvExLgI"
      },
      "outputs": [],
      "source": [
        "def build_model():\n",
        "    model = Sequential()  # Sequential Model\n",
        "    model.add(Conv2D(filters = 64, kernel_size = (5, 5), padding = 'valid', activation = 'relu', input_shape = (128, 128, 3)))\n",
        "    model.add(Conv2D(filters = 64, kernel_size = (5, 5), padding = 'valid', activation = 'relu'))\n",
        "    model.add(MaxPool2D(pool_size = (2, 2)))\n",
        "    model.add(Conv2D(filters = 64, kernel_size = (5, 5), padding = 'valid', activation = 'relu'))\n",
        "    model.add(Conv2D(filters = 64, kernel_size = (5, 5), padding = 'valid', activation = 'relu'))\n",
        "    model.add(MaxPool2D(pool_size = (2, 2)))\n",
        "    model.add(Conv2D(filters = 64, kernel_size = (5, 5), padding = 'valid', activation = 'relu'))\n",
        "    model.add(Conv2D(filters = 64, kernel_size = (5, 5), padding = 'valid', activation = 'relu'))\n",
        "    model.add(MaxPool2D(pool_size = (2, 2)))\n",
        "    model.add(Conv2D(filters = 32, kernel_size = (5, 5), padding = 'valid', activation = 'relu'))\n",
        "    model.add(MaxPool2D(pool_size = (2, 2)))\n",
        "    model.add(GlobalAveragePooling2D())\n",
        "    model.add(Dense(1, activation = 'sigmoid'))\n",
        "    return model"
      ]
    },
    {
      "cell_type": "code",
      "execution_count": 34,
      "metadata": {
        "colab": {
          "base_uri": "https://localhost:8080/",
          "height": 0
        },
        "id": "CuI5kbJ6xOTA",
        "outputId": "878d7f07-0596-4398-96d4-0ed30b8a384d"
      },
      "outputs": [
        {
          "output_type": "stream",
          "name": "stdout",
          "text": [
            "Model: \"sequential\"\n",
            "_________________________________________________________________\n",
            " Layer (type)                Output Shape              Param #   \n",
            "=================================================================\n",
            " conv2d (Conv2D)             (None, 124, 124, 64)      4864      \n",
            "                                                                 \n",
            " conv2d_1 (Conv2D)           (None, 120, 120, 64)      102464    \n",
            "                                                                 \n",
            " max_pooling2d (MaxPooling2  (None, 60, 60, 64)        0         \n",
            " D)                                                              \n",
            "                                                                 \n",
            " conv2d_2 (Conv2D)           (None, 56, 56, 64)        102464    \n",
            "                                                                 \n",
            " conv2d_3 (Conv2D)           (None, 52, 52, 64)        102464    \n",
            "                                                                 \n",
            " max_pooling2d_1 (MaxPoolin  (None, 26, 26, 64)        0         \n",
            " g2D)                                                            \n",
            "                                                                 \n",
            " conv2d_4 (Conv2D)           (None, 22, 22, 64)        102464    \n",
            "                                                                 \n",
            " conv2d_5 (Conv2D)           (None, 18, 18, 64)        102464    \n",
            "                                                                 \n",
            " max_pooling2d_2 (MaxPoolin  (None, 9, 9, 64)          0         \n",
            " g2D)                                                            \n",
            "                                                                 \n",
            " conv2d_6 (Conv2D)           (None, 5, 5, 32)          51232     \n",
            "                                                                 \n",
            " max_pooling2d_3 (MaxPoolin  (None, 2, 2, 32)          0         \n",
            " g2D)                                                            \n",
            "                                                                 \n",
            " global_average_pooling2d (  (None, 32)                0         \n",
            " GlobalAveragePooling2D)                                         \n",
            "                                                                 \n",
            " dense (Dense)               (None, 1)                 33        \n",
            "                                                                 \n",
            "=================================================================\n",
            "Total params: 568449 (2.17 MB)\n",
            "Trainable params: 568449 (2.17 MB)\n",
            "Non-trainable params: 0 (0.00 Byte)\n",
            "_________________________________________________________________\n"
          ]
        }
      ],
      "source": [
        "model = build_model()\n",
        "model.summary()"
      ]
    },
    {
      "cell_type": "code",
      "execution_count": 35,
      "metadata": {
        "id": "56sXETd_xRZ4"
      },
      "outputs": [],
      "source": [
        "epochs = 15\n",
        "batch_size = 32"
      ]
    },
    {
      "cell_type": "code",
      "execution_count": 36,
      "metadata": {
        "colab": {
          "base_uri": "https://localhost:8080/",
          "height": 0
        },
        "id": "Qm3323UuxUAY",
        "outputId": "b20fc020-0c5b-4209-c6f2-31da0a0fabcb"
      },
      "outputs": [
        {
          "output_type": "stream",
          "name": "stderr",
          "text": [
            "/usr/local/lib/python3.10/dist-packages/keras/src/optimizers/legacy/adam.py:118: UserWarning: The `lr` argument is deprecated, use `learning_rate` instead.\n",
            "  super().__init__(name, **kwargs)\n"
          ]
        }
      ],
      "source": [
        "#Optimizer\n",
        "from tensorflow.keras.optimizers.legacy import Adam\n",
        "init_lr = 1e-4   #learning rate for the optimizer\n",
        "optimizer = Adam(lr = init_lr, decay = init_lr/epochs)\n",
        "model.compile(optimizer = optimizer, loss = 'binary_crossentropy', metrics = ['accuracy'])"
      ]
    },
    {
      "cell_type": "code",
      "execution_count": 37,
      "metadata": {
        "id": "oe9ZIMcbx5iZ"
      },
      "outputs": [],
      "source": [
        "#Early Stopping\n",
        "early_stopping = EarlyStopping(monitor = 'val_accuracy',\n",
        "                               min_delta = 0,\n",
        "                               patience = 10,\n",
        "                               verbose = 0,\n",
        "                               mode = 'auto')"
      ]
    },
    {
      "cell_type": "code",
      "execution_count": 38,
      "metadata": {
        "colab": {
          "base_uri": "https://localhost:8080/",
          "height": 0
        },
        "id": "LInh6DeEx8Uw",
        "outputId": "fb6c5e37-4e39-4452-c632-097d117626d6"
      },
      "outputs": [
        {
          "output_type": "stream",
          "name": "stdout",
          "text": [
            "Epoch 1/15\n",
            "41/41 [==============================] - 579s 14s/step - loss: 0.6561 - accuracy: 0.6415 - val_loss: 0.6023 - val_accuracy: 0.7077\n",
            "Epoch 2/15\n",
            "41/41 [==============================] - 553s 14s/step - loss: 0.6309 - accuracy: 0.6592 - val_loss: 0.6113 - val_accuracy: 0.6738\n",
            "Epoch 3/15\n",
            "41/41 [==============================] - 547s 13s/step - loss: 0.5695 - accuracy: 0.7200 - val_loss: 0.5579 - val_accuracy: 0.7323\n",
            "Epoch 4/15\n",
            "41/41 [==============================] - 552s 14s/step - loss: 0.5462 - accuracy: 0.7477 - val_loss: 0.5594 - val_accuracy: 0.7538\n",
            "Epoch 5/15\n",
            "41/41 [==============================] - 553s 14s/step - loss: 0.5266 - accuracy: 0.7623 - val_loss: 0.5349 - val_accuracy: 0.7569\n",
            "Epoch 6/15\n",
            "41/41 [==============================] - 559s 14s/step - loss: 0.5172 - accuracy: 0.7654 - val_loss: 0.5274 - val_accuracy: 0.7538\n",
            "Epoch 7/15\n",
            "41/41 [==============================] - 558s 14s/step - loss: 0.5345 - accuracy: 0.7438 - val_loss: 0.5213 - val_accuracy: 0.7508\n",
            "Epoch 8/15\n",
            "41/41 [==============================] - 537s 13s/step - loss: 0.5003 - accuracy: 0.7715 - val_loss: 0.5170 - val_accuracy: 0.7569\n",
            "Epoch 9/15\n",
            "41/41 [==============================] - 568s 14s/step - loss: 0.5046 - accuracy: 0.7715 - val_loss: 0.5259 - val_accuracy: 0.7569\n",
            "Epoch 10/15\n",
            "41/41 [==============================] - 563s 14s/step - loss: 0.5066 - accuracy: 0.7738 - val_loss: 0.5045 - val_accuracy: 0.7662\n",
            "Epoch 11/15\n",
            "41/41 [==============================] - 538s 13s/step - loss: 0.4805 - accuracy: 0.7938 - val_loss: 0.6139 - val_accuracy: 0.7108\n",
            "Epoch 12/15\n",
            "41/41 [==============================] - 555s 14s/step - loss: 0.4925 - accuracy: 0.7738 - val_loss: 0.4960 - val_accuracy: 0.7600\n",
            "Epoch 13/15\n",
            "41/41 [==============================] - 557s 14s/step - loss: 0.4721 - accuracy: 0.7823 - val_loss: 0.5679 - val_accuracy: 0.7046\n",
            "Epoch 14/15\n",
            "41/41 [==============================] - 573s 14s/step - loss: 0.4898 - accuracy: 0.7823 - val_loss: 0.4984 - val_accuracy: 0.7569\n",
            "Epoch 15/15\n",
            "41/41 [==============================] - 555s 14s/step - loss: 0.4600 - accuracy: 0.7931 - val_loss: 0.4806 - val_accuracy: 0.7662\n"
          ]
        }
      ],
      "source": [
        "hist = model.fit(X_train,\n",
        "                 Y_train,\n",
        "                 batch_size = batch_size,\n",
        "                 epochs = epochs,\n",
        "                 validation_data = (X_val, Y_val),\n",
        "                 callbacks = [early_stopping])"
      ]
    },
    {
      "cell_type": "code",
      "execution_count": 46,
      "metadata": {
        "colab": {
          "base_uri": "https://localhost:8080/",
          "height": 463
        },
        "id": "aGjJ4kzYMP8Q",
        "outputId": "69eb6adb-8e40-4ee9-9fa4-3fd25d894c2d"
      },
      "outputs": [
        {
          "output_type": "display_data",
          "data": {
            "text/plain": [
              "<Figure size 1500x500 with 2 Axes>"
            ],
            "image/png": "[encoded data removed]"
          },
          "metadata": {}
        }
      ],
      "source": [
        "# Assuming `hist` contains the training history\n",
        "history_dict = hist.history\n",
        "\n",
        "fig, ax = plt.subplots(1, 2, figsize=(15, 5))\n",
        "\n",
        "# Plot training and validation loss\n",
        "ax[0].plot(history_dict['loss'], color='b', label=\"Training loss\")\n",
        "ax[0].plot(history_dict['val_loss'], color='r', label=\"Validation loss\")\n",
        "ax[0].set_xlabel('Epochs', fontsize=16)\n",
        "ax[0].set_ylabel('Loss', fontsize=16)\n",
        "ax[0].legend(loc='best', shadow=True)\n",
        "\n",
        "# Plot training and validation accuracy\n",
        "ax[1].plot(history_dict['accuracy'], color='b', label=\"Training accuracy\")\n",
        "ax[1].plot(history_dict['val_accuracy'], color='r', label=\"Validation accuracy\")\n",
        "ax[1].set_xlabel('Epochs', fontsize=16)\n",
        "ax[1].set_ylabel('Accuracy', fontsize=16)\n",
        "ax[1].legend(loc='best', shadow=True)\n",
        "\n",
        "fig.suptitle('Metrics', fontsize=20)\n",
        "plt.show()\n"
      ]
    },
    {
      "cell_type": "code",
      "execution_count": 47,
      "metadata": {
        "id": "_P9qtlxwMpac"
      },
      "outputs": [],
      "source": [
        "def plot_confusion_matrix(cf_matrix):\n",
        "\n",
        "    group_counts = [\"{0:0.0f}\".format(value) for value in cf_matrix.flatten()] #number of images in each classification block\n",
        "    group_percentages = [\"{0:.2%}\".format(value) for value in cf_matrix.flatten()/np.sum(cf_matrix)] #percentage value of images in each block w.r.t total images\n",
        "\n",
        "    axes_labels=['Forged', 'Authentic']\n",
        "    labels = [f\"{v1}\\n{v2}\" for v1, v2 in zip(group_counts,group_percentages)]\n",
        "    labels = np.asarray(labels).reshape(2,2)\n",
        "    sns.heatmap(cf_matrix, annot=labels, fmt='',cmap=\"flare\" , xticklabels=axes_labels, yticklabels=axes_labels)\n",
        "\n",
        "    plot_xlabel = plt.xlabel('Predicted labels', fontsize = 13)\n",
        "    plot_ylabel = plt.ylabel('True labels', fontsize = 13)\n",
        "    plot_title = plt.title('Confusion Matrix', fontsize= 10,fontweight='bold')"
      ]
    },
    {
      "cell_type": "code",
      "execution_count": 48,
      "metadata": {
        "colab": {
          "base_uri": "https://localhost:8080/",
          "height": 490
        },
        "id": "rvV1DkeyMr5D",
        "outputId": "61a36231-b379-4c07-9380-f8629590ef2f"
      },
      "outputs": [
        {
          "output_type": "stream",
          "name": "stdout",
          "text": [
            "11/11 [==============================] - 43s 4s/step\n"
          ]
        },
        {
          "output_type": "display_data",
          "data": {
            "text/plain": [
              "<Figure size 640x480 with 2 Axes>"
            ],
            "image/png": "[encoded data removed]"
          },
          "metadata": {}
        }
      ],
      "source": [
        "Y_pred = model.predict(X_val)               # Predict the values from the validation dataset\n",
        "Y_pred_classes = np.round(Y_pred)           # roundoff the sigmoid value\n",
        "Y_true = Y_val\n",
        "\n",
        "confusion_mtx = confusion_matrix(Y_true, Y_pred_classes)     # compute the confusion matrix\n",
        "plot_confusion_matrix(confusion_mtx)                         # plot the confusion matrix"
      ]
    },
    {
      "cell_type": "code",
      "execution_count": 49,
      "metadata": {
        "colab": {
          "base_uri": "https://localhost:8080/",
          "height": 0
        },
        "id": "sQqLm6l6NJal",
        "outputId": "79af9090-a92d-4ed7-e648-cf9dc47fc514"
      },
      "outputs": [
        {
          "output_type": "stream",
          "name": "stdout",
          "text": [
            "              precision    recall  f1-score   support\n",
            "\n",
            "           0       0.70      0.96      0.81       168\n",
            "           1       0.93      0.56      0.70       157\n",
            "\n",
            "    accuracy                           0.77       325\n",
            "   macro avg       0.81      0.76      0.75       325\n",
            "weighted avg       0.81      0.77      0.76       325\n",
            "\n"
          ]
        }
      ],
      "source": [
        "print(classification_report(Y_true, Y_pred_classes))"
      ]
    },
    {
      "cell_type": "code",
      "execution_count": 50,
      "metadata": {
        "id": "9OBJGTtRNMwU"
      },
      "outputs": [],
      "source": [
        "class_names = ['Forged', 'Authentic']"
      ]
    },
    {
      "cell_type": "code",
      "execution_count": 51,
      "metadata": {
        "colab": {
          "base_uri": "https://localhost:8080/",
          "height": 1593,
          "referenced_widgets": [
            "1e904c49558448d2a59b798aa8f1502d",
            "647481a757624f68a5f732a0d70e0c34",
            "d4ec9c68e82f48039714d659c6c11996",
            "6670d50045f7450eac79109238df7199",
            "18c361f05b4e4ca7ab27b281cb4581aa",
            "a39bef3dfa0940a283efaee37a208bef",
            "722bd18b30844600b5d56b923371e7fb",
            "477bfe32e33544a69e7e77e77a3e531c",
            "dfbd730c96214007bfe705101b735eef",
            "4b57e788c84c4842a1ae9d9d46e6e52c",
            "19d087eeb4ba4277ac80d2fd1e314644"
          ]
        },
        "id": "WjuohvBeNP9L",
        "outputId": "359253a6-31ed-4def-b6d7-70bad3f1d2c3"
      },
      "outputs": [
        {
          "output_type": "display_data",
          "data": {
            "text/plain": [
              "Processing Images :   0%|          | 0/86 [00:00<?, ?it/s]"
            ],
            "application/vnd.jupyter.widget-view+json": {
              "version_major": 2,
              "version_minor": 0,
              "model_id": "1e904c49558448d2a59b798aa8f1502d"
            }
          },
          "metadata": {}
        },
        {
          "output_type": "stream",
          "name": "stdout",
          "text": [
            "1/1 [==============================] - 0s 130ms/step\n",
            "1/1 [==============================] - 0s 115ms/step\n",
            "1/1 [==============================] - 0s 100ms/step\n",
            "1/1 [==============================] - 0s 106ms/step\n",
            "1/1 [==============================] - 0s 110ms/step\n",
            "1/1 [==============================] - 0s 106ms/step\n",
            "1/1 [==============================] - 0s 115ms/step\n",
            "1/1 [==============================] - 0s 120ms/step\n",
            "1/1 [==============================] - 0s 123ms/step\n",
            "1/1 [==============================] - 0s 146ms/step\n",
            "1/1 [==============================] - 0s 130ms/step\n",
            "1/1 [==============================] - 0s 118ms/step\n",
            "1/1 [==============================] - 0s 131ms/step\n",
            "1/1 [==============================] - 0s 137ms/step\n",
            "1/1 [==============================] - 0s 124ms/step\n",
            "1/1 [==============================] - 0s 117ms/step\n",
            "1/1 [==============================] - 0s 114ms/step\n",
            "1/1 [==============================] - 0s 115ms/step\n",
            "1/1 [==============================] - 0s 126ms/step\n",
            "1/1 [==============================] - 0s 118ms/step\n",
            "1/1 [==============================] - 0s 106ms/step\n",
            "1/1 [==============================] - 0s 113ms/step\n",
            "1/1 [==============================] - 0s 146ms/step\n",
            "1/1 [==============================] - 0s 188ms/step\n",
            "1/1 [==============================] - 0s 201ms/step\n",
            "1/1 [==============================] - 0s 178ms/step\n",
            "1/1 [==============================] - 0s 192ms/step\n",
            "1/1 [==============================] - 0s 202ms/step\n",
            "1/1 [==============================] - 0s 201ms/step\n",
            "1/1 [==============================] - 0s 224ms/step\n",
            "1/1 [==============================] - 0s 198ms/step\n",
            "1/1 [==============================] - 0s 187ms/step\n",
            "1/1 [==============================] - 0s 184ms/step\n",
            "1/1 [==============================] - 0s 175ms/step\n",
            "1/1 [==============================] - 0s 223ms/step\n",
            "1/1 [==============================] - 0s 209ms/step\n",
            "1/1 [==============================] - 0s 199ms/step\n",
            "1/1 [==============================] - 0s 118ms/step\n",
            "1/1 [==============================] - 0s 134ms/step\n",
            "1/1 [==============================] - 0s 110ms/step\n",
            "1/1 [==============================] - 0s 117ms/step\n",
            "1/1 [==============================] - 0s 110ms/step\n",
            "1/1 [==============================] - 0s 119ms/step\n",
            "1/1 [==============================] - 0s 108ms/step\n",
            "1/1 [==============================] - 0s 118ms/step\n",
            "1/1 [==============================] - 0s 110ms/step\n",
            "1/1 [==============================] - 0s 119ms/step\n",
            "1/1 [==============================] - 0s 116ms/step\n",
            "1/1 [==============================] - 0s 112ms/step\n",
            "1/1 [==============================] - 0s 125ms/step\n",
            "1/1 [==============================] - 0s 128ms/step\n",
            "1/1 [==============================] - 0s 130ms/step\n",
            "1/1 [==============================] - 0s 134ms/step\n",
            "1/1 [==============================] - 0s 156ms/step\n",
            "1/1 [==============================] - 0s 141ms/step\n",
            "1/1 [==============================] - 0s 119ms/step\n",
            "1/1 [==============================] - 0s 120ms/step\n",
            "1/1 [==============================] - 0s 116ms/step\n",
            "1/1 [==============================] - 0s 135ms/step\n",
            "1/1 [==============================] - 0s 118ms/step\n",
            "1/1 [==============================] - 0s 116ms/step\n",
            "1/1 [==============================] - 0s 109ms/step\n",
            "1/1 [==============================] - 0s 115ms/step\n",
            "1/1 [==============================] - 0s 117ms/step\n",
            "1/1 [==============================] - 0s 109ms/step\n",
            "1/1 [==============================] - 0s 108ms/step\n",
            "1/1 [==============================] - 0s 111ms/step\n",
            "1/1 [==============================] - 0s 140ms/step\n",
            "1/1 [==============================] - 0s 115ms/step\n",
            "1/1 [==============================] - 0s 118ms/step\n",
            "1/1 [==============================] - 0s 117ms/step\n",
            "1/1 [==============================] - 0s 120ms/step\n",
            "1/1 [==============================] - 0s 142ms/step\n",
            "1/1 [==============================] - 0s 112ms/step\n",
            "1/1 [==============================] - 0s 114ms/step\n",
            "1/1 [==============================] - 0s 119ms/step\n",
            "1/1 [==============================] - 0s 131ms/step\n",
            "1/1 [==============================] - 0s 118ms/step\n",
            "1/1 [==============================] - 0s 115ms/step\n",
            "1/1 [==============================] - 0s 118ms/step\n",
            "1/1 [==============================] - 0s 139ms/step\n",
            "1/1 [==============================] - 0s 165ms/step\n",
            "1/1 [==============================] - 0s 177ms/step\n",
            "1/1 [==============================] - 0s 188ms/step\n",
            "1/1 [==============================] - 0s 219ms/step\n",
            "1/1 [==============================] - 0s 201ms/step\n",
            "Total test images: 86\n",
            "Correctly predicted images: 71\n",
            "Accuracy: 82.55813953488372 %\n"
          ]
        }
      ],
      "source": [
        "# Testing accuracy\n",
        "correct_test = 0 #correctly predicted test images\n",
        "total_test = 0   #total test images\n",
        "\n",
        "for index,image in enumerate(tqdm(X_test,desc=\"Processing Images : \")):\n",
        "    image = image.reshape(-1, 128, 128, 3)\n",
        "    y_pred = model.predict(image)\n",
        "    y_pred_class = np.round(y_pred)\n",
        "    total_test += 1\n",
        "    if y_pred_class == Y_test[index]: #if prediction is correct\n",
        "        correct_test += 1\n",
        "\n",
        "print(f'Total test images: {total_test}\\nCorrectly predicted images: {correct_test}\\nAccuracy: {correct_test / total_test * 100.0} %')"
      ]
    },
    {
      "cell_type": "code",
      "execution_count": 53,
      "metadata": {
        "colab": {
          "base_uri": "https://localhost:8080/",
          "height": 0
        },
        "id": "NhoYjZtcNeH0",
        "outputId": "e673c7e0-978b-4a36-9fb5-4409334933ee"
      },
      "outputs": [
        {
          "output_type": "stream",
          "name": "stdout",
          "text": [
            "Epoch 1/15\n",
            "41/41 [==============================] - 11s 236ms/step - loss: 0.9362 - accuracy: 0.5208 - val_loss: 0.8287 - val_accuracy: 0.4708\n",
            "Epoch 2/15\n",
            "41/41 [==============================] - 5s 124ms/step - loss: 0.6857 - accuracy: 0.6046 - val_loss: 0.6872 - val_accuracy: 0.5662\n",
            "Epoch 3/15\n",
            "41/41 [==============================] - 5s 116ms/step - loss: 0.6137 - accuracy: 0.6769 - val_loss: 0.6967 - val_accuracy: 0.6246\n",
            "Epoch 4/15\n",
            "41/41 [==============================] - 6s 140ms/step - loss: 0.5515 - accuracy: 0.7469 - val_loss: 0.7035 - val_accuracy: 0.6000\n",
            "Epoch 5/15\n",
            "41/41 [==============================] - 5s 112ms/step - loss: 0.5327 - accuracy: 0.7569 - val_loss: 0.6704 - val_accuracy: 0.6000\n",
            "Epoch 6/15\n",
            "41/41 [==============================] - 4s 107ms/step - loss: 0.4975 - accuracy: 0.7662 - val_loss: 0.6512 - val_accuracy: 0.6338\n",
            "Epoch 7/15\n",
            "41/41 [==============================] - 5s 131ms/step - loss: 0.2985 - accuracy: 0.9262 - val_loss: 0.7999 - val_accuracy: 0.5723\n",
            "Epoch 8/15\n",
            "41/41 [==============================] - 5s 132ms/step - loss: 0.2800 - accuracy: 0.9000 - val_loss: 0.7571 - val_accuracy: 0.6154\n",
            "Epoch 9/15\n",
            "41/41 [==============================] - 4s 109ms/step - loss: 0.2387 - accuracy: 0.9131 - val_loss: 0.7499 - val_accuracy: 0.6338\n",
            "Epoch 10/15\n",
            "41/41 [==============================] - 5s 111ms/step - loss: 0.1403 - accuracy: 0.9754 - val_loss: 1.1510 - val_accuracy: 0.6031\n",
            "Epoch 11/15\n",
            "41/41 [==============================] - 6s 155ms/step - loss: 0.1428 - accuracy: 0.9631 - val_loss: 1.1415 - val_accuracy: 0.5938\n",
            "Epoch 12/15\n",
            "41/41 [==============================] - 6s 143ms/step - loss: 0.1035 - accuracy: 0.9808 - val_loss: 0.8211 - val_accuracy: 0.6031\n",
            "Epoch 13/15\n",
            "41/41 [==============================] - 4s 105ms/step - loss: 0.2439 - accuracy: 0.9492 - val_loss: 0.8142 - val_accuracy: 0.6523\n",
            "Epoch 14/15\n",
            "41/41 [==============================] - 5s 132ms/step - loss: 0.1459 - accuracy: 0.9654 - val_loss: 0.9366 - val_accuracy: 0.6062\n",
            "Epoch 15/15\n",
            "41/41 [==============================] - 5s 119ms/step - loss: 0.0594 - accuracy: 0.9985 - val_loss: 0.8619 - val_accuracy: 0.6215\n",
            "3/3 [==============================] - 0s 16ms/step - loss: 0.6851 - accuracy: 0.6744\n",
            "MLP Model - Test Loss: 0.6850742697715759, Test Accuracy: 0.6744186282157898\n"
          ]
        }
      ],
      "source": [
        "from keras.models import Sequential\n",
        "from keras.layers import Dense\n",
        "\n",
        "# Define the MLP model\n",
        "mlp_model = Sequential([\n",
        "    Dense(128, activation='relu', input_shape=(128*128*3,)),\n",
        "    Dense(64, activation='relu'),\n",
        "    Dense(1, activation='sigmoid')\n",
        "])\n",
        "\n",
        "# Compile the model\n",
        "mlp_model.compile(optimizer='adam', loss='binary_crossentropy', metrics=['accuracy'])\n",
        "\n",
        "# Train the model\n",
        "mlp_history = mlp_model.fit(X_train.reshape(-1, 128*128*3), Y_train, validation_data=(X_val.reshape(-1, 128*128*3), Y_val), epochs=epochs, batch_size=batch_size, callbacks=[early_stopping])\n",
        "\n",
        "# Evaluate the model\n",
        "mlp_loss, mlp_accuracy = mlp_model.evaluate(X_test.reshape(-1, 128*128*3), Y_test)\n",
        "print(f'MLP Model - Test Loss: {mlp_loss}, Test Accuracy: {mlp_accuracy}')\n"
      ]
    },
    {
      "cell_type": "code",
      "execution_count": 54,
      "metadata": {
        "id": "i-9ttGfpPWl2"
      },
      "outputs": [],
      "source": [
        "def build_fnn_model():\n",
        "    model = Sequential()\n",
        "    model.add(Flatten(input_shape=(128, 128, 3)))\n",
        "    model.add(Dense(128, activation='relu'))\n",
        "    model.add(Dense(64, activation='relu'))\n",
        "    model.add(Dense(1, activation='sigmoid'))\n",
        "    return model\n",
        "\n",
        "fnn_model = build_fnn_model()\n"
      ]
    },
    {
      "cell_type": "code",
      "execution_count": 55,
      "metadata": {
        "colab": {
          "base_uri": "https://localhost:8080/",
          "height": 0
        },
        "id": "sB74sk8lPi2C",
        "outputId": "191ec7cb-0c8b-44dc-f3ca-210e9ece4207"
      },
      "outputs": [
        {
          "output_type": "stream",
          "name": "stdout",
          "text": [
            "MLP - Test Loss: 0.6850742697715759, Test Accuracy: 0.6744186282157898\n"
          ]
        }
      ],
      "source": [
        "models_accuracy = {\n",
        "\n",
        "    'MLP': (mlp_loss, mlp_accuracy)\n",
        "\n",
        "}\n",
        "\n",
        "for model_name, (loss, accuracy) in models_accuracy.items():\n",
        "    print(f'{model_name} - Test Loss: {loss}, Test Accuracy: {accuracy}')\n",
        "\n",
        "# Additional analysis such as plotting training/validation curves, confusion matrix, classification report, etc.\n"
      ]
    },
    {
      "cell_type": "code",
      "execution_count": 56,
      "metadata": {
        "colab": {
          "base_uri": "https://localhost:8080/",
          "height": 0
        },
        "id": "gU_OXeFLQTFi",
        "outputId": "88cc1639-915a-4d7d-dfde-d54ea2b86645"
      },
      "outputs": [
        {
          "output_type": "stream",
          "name": "stdout",
          "text": [
            "KNN Model - Validation Accuracy: 0.5538461538461539\n",
            "KNN Model - Test Accuracy: 0.5465116279069767\n"
          ]
        }
      ],
      "source": [
        "from sklearn.neighbors import KNeighborsClassifier\n",
        "\n",
        "# Initialize KNN classifier\n",
        "knn_classifier = KNeighborsClassifier(n_neighbors=5)\n",
        "\n",
        "# Train the classifier\n",
        "knn_classifier.fit(X_train.reshape(X_train.shape[0], -1), Y_train)\n",
        "\n",
        "# Predict on validation set\n",
        "knn_predictions = knn_classifier.predict(X_val.reshape(X_val.shape[0], -1))\n",
        "\n",
        "# Evaluate accuracy\n",
        "knn_accuracy = np.mean(knn_predictions == Y_val)\n",
        "print(f'KNN Model - Validation Accuracy: {knn_accuracy}')\n",
        "\n",
        "# Predict on test set\n",
        "knn_test_predictions = knn_classifier.predict(X_test.reshape(X_test.shape[0], -1))\n",
        "\n",
        "# Evaluate accuracy on test set\n",
        "knn_test_accuracy = np.mean(knn_test_predictions == Y_test)\n",
        "print(f'KNN Model - Test Accuracy: {knn_test_accuracy}')\n"
      ]
    },
    {
      "cell_type": "code",
      "execution_count": 57,
      "metadata": {
        "colab": {
          "base_uri": "https://localhost:8080/",
          "height": 0
        },
        "id": "T0KRqQVMRWw1",
        "outputId": "770eb78c-d5a1-4290-8f42-bdd328d4614b"
      },
      "outputs": [
        {
          "output_type": "stream",
          "name": "stdout",
          "text": [
            "Gaussian Naive Bayes Model - Validation Accuracy: 0.5384615384615384\n",
            "Gaussian Naive Bayes Model - Test Accuracy: 0.6046511627906976\n"
          ]
        }
      ],
      "source": [
        "from sklearn.naive_bayes import GaussianNB\n",
        "\n",
        "# Initialize Gaussian Naive Bayes classifier\n",
        "nb_classifier = GaussianNB()\n",
        "\n",
        "# Train the classifier\n",
        "nb_classifier.fit(X_train.reshape(X_train.shape[0], -1), Y_train)\n",
        "\n",
        "# Predict on validation set\n",
        "nb_predictions = nb_classifier.predict(X_val.reshape(X_val.shape[0], -1))\n",
        "\n",
        "# Evaluate accuracy\n",
        "nb_accuracy = np.mean(nb_predictions == Y_val)\n",
        "print(f'Gaussian Naive Bayes Model - Validation Accuracy: {nb_accuracy}')\n",
        "\n",
        "# Predict on test set\n",
        "nb_test_predictions = nb_classifier.predict(X_test.reshape(X_test.shape[0], -1))\n",
        "\n",
        "# Evaluate accuracy on test set\n",
        "nb_test_accuracy = np.mean(nb_test_predictions == Y_test)\n",
        "print(f'Gaussian Naive Bayes Model - Test Accuracy: {nb_test_accuracy}')\n"
      ]
    },
    {
      "cell_type": "code",
      "execution_count": 58,
      "metadata": {
        "colab": {
          "base_uri": "https://localhost:8080/",
          "height": 0
        },
        "id": "9U2F_ImgRZtb",
        "outputId": "ff58ea41-b346-411f-80b7-cebde26e1b42"
      },
      "outputs": [
        {
          "output_type": "stream",
          "name": "stdout",
          "text": [
            "SVM Model - Validation Accuracy: 0.7107692307692308\n",
            "SVM Model - Test Accuracy: 0.6627906976744186\n"
          ]
        }
      ],
      "source": [
        "from sklearn.svm import SVC\n",
        "\n",
        "# Initialize SVM classifier\n",
        "svm_classifier = SVC()\n",
        "\n",
        "# Train the classifier\n",
        "svm_classifier.fit(X_train.reshape(X_train.shape[0], -1), Y_train)\n",
        "\n",
        "# Predict on validation set\n",
        "svm_predictions = svm_classifier.predict(X_val.reshape(X_val.shape[0], -1))\n",
        "\n",
        "# Evaluate accuracy\n",
        "svm_accuracy = np.mean(svm_predictions == Y_val)\n",
        "print(f'SVM Model - Validation Accuracy: {svm_accuracy}')\n",
        "\n",
        "# Predict on test set\n",
        "svm_test_predictions = svm_classifier.predict(X_test.reshape(X_test.shape[0], -1))\n",
        "\n",
        "# Evaluate accuracy on test set\n",
        "svm_test_accuracy = np.mean(svm_test_predictions == Y_test)\n",
        "print(f'SVM Model - Test Accuracy: {svm_test_accuracy}')\n"
      ]
    },
    {
      "cell_type": "code",
      "execution_count": 59,
      "metadata": {
        "colab": {
          "base_uri": "https://localhost:8080/",
          "height": 564
        },
        "id": "1KJ22Pa7SXMK",
        "outputId": "7fb2f8db-d2fb-45f4-b4b1-0a27e8e949f2"
      },
      "outputs": [
        {
          "output_type": "display_data",
          "data": {
            "text/plain": [
              "<Figure size 1000x600 with 1 Axes>"
            ],
            "image/png": "[encoded data removed]"
          },
          "metadata": {}
        }
      ],
      "source": [
        "import matplotlib.pyplot as plt\n",
        "\n",
        "# Define the accuracies\n",
        "accuracies = [svm_test_accuracy, nb_test_accuracy, knn_test_accuracy, mlp_accuracy , correct_test / total_test * 100.0]\n",
        "models = ['SVM', 'Naive Bayes', 'KNN', 'MLP' , 'CNN']\n",
        "\n",
        "# Plot the bar graph\n",
        "plt.figure(figsize=(10, 6))\n",
        "plt.bar(models, accuracies, color=['blue', 'green', 'red', 'purple', 'orange'])\n",
        "plt.xlabel('Models')\n",
        "plt.ylabel('Test Accuracy')\n",
        "plt.title('Comparison of Test Accuracies')\n",
        "plt.ylim(0, 1)  # Set y-axis limit from 0 to 1\n",
        "plt.show()\n",
        "\n",
        "\n",
        "\n"
      ]
    },
    {
      "cell_type": "code",
      "source": [
        "import matplotlib.pyplot as plt\n",
        "import numpy as np\n",
        "\n",
        "# Define the models and classes\n",
        "models = ['CNN', 'KNN', 'SVM', 'MLP', 'Naive Bayes']\n",
        "classes = ['Class 1-AT', 'Class 2-FG',]  # AT: AUTHENTIC, FG: FORGED\n",
        "\n",
        "# Define the evaluation metric values for each model and class (replace with actual values)\n",
        "evaluation_matrix = np.array([\n",
        "    [0.90, 0.85],\n",
        "    [0.68, 0.58],\n",
        "    [0.75, 0.63],\n",
        "    [0.68, 0.62],\n",
        "    [0.86, 0.50]\n",
        "])\n",
        "\n",
        "# Plot the heatmap\n",
        "plt.figure(figsize=(10, 6))\n",
        "plt.imshow(evaluation_matrix, cmap='viridis', interpolation='nearest')\n",
        "\n",
        "# Add colorbar\n",
        "plt.colorbar(label='Accuracy')\n",
        "\n",
        "# Set ticks and labels\n",
        "plt.xticks(np.arange(len(classes)), classes)\n",
        "plt.yticks(np.arange(len(models)), models)\n",
        "\n",
        "# Add labels\n",
        "plt.xlabel('Classes')\n",
        "plt.ylabel('Models')\n",
        "\n",
        "# Add title\n",
        "plt.title('Comparative Analysis Heatmap')\n",
        "\n",
        "# Display the heatmap\n",
        "plt.show()\n"
      ],
      "metadata": {
        "colab": {
          "base_uri": "https://localhost:8080/",
          "height": 564
        },
        "id": "9tyOfN6t7xRR",
        "outputId": "436aafe7-2b00-4359-c1be-4facb4ae2995"
      },
      "execution_count": 103,
      "outputs": [
        {
          "output_type": "display_data",
          "data": {
            "text/plain": [
              "<Figure size 1000x600 with 2 Axes>"
            ],
            "image/png": "[encoded data removed]"
          },
          "metadata": {}
        }
      ]
    },
    {
      "cell_type": "code",
      "execution_count": 60,
      "metadata": {
        "colab": {
          "base_uri": "https://localhost:8080/",
          "height": 0
        },
        "id": "gj6L1HpyVYWC",
        "outputId": "c4630eca-6d3a-46da-d17d-e5d6657d922b"
      },
      "outputs": [
        {
          "output_type": "stream",
          "name": "stdout",
          "text": [
            "Precision: 0.9263157894736842\n",
            "Recall: 0.5605095541401274\n",
            "F1 Score: 0.6984126984126984\n"
          ]
        }
      ],
      "source": [
        "from sklearn.metrics import precision_score, recall_score, f1_score\n",
        "\n",
        "precision = precision_score(Y_true, Y_pred_classes)\n",
        "recall = recall_score(Y_true, Y_pred_classes)\n",
        "f1 = f1_score(Y_true, Y_pred_classes)\n",
        "\n",
        "print(\"Precision:\", precision)\n",
        "print(\"Recall:\", recall)\n",
        "print(\"F1 Score:\", f1)\n"
      ]
    },
    {
      "cell_type": "code",
      "execution_count": 61,
      "metadata": {
        "colab": {
          "base_uri": "https://localhost:8080/",
          "height": 489
        },
        "id": "3alKtnDMWCxq",
        "outputId": "1eec4a37-771c-4ef7-c069-7928a9ac0eac"
      },
      "outputs": [
        {
          "output_type": "display_data",
          "data": {
            "text/plain": [
              "<Figure size 640x480 with 1 Axes>"
            ],
            "image/png": "[encoded data removed]"
          },
          "metadata": {}
        },
        {
          "output_type": "stream",
          "name": "stdout",
          "text": [
            "AUC: 0.8312101910828026\n"
          ]
        }
      ],
      "source": [
        "from sklearn.metrics import roc_curve, auc\n",
        "\n",
        "fpr, tpr, thresholds = roc_curve(Y_true, Y_pred)\n",
        "roc_auc = auc(fpr, tpr)\n",
        "\n",
        "plt.figure()\n",
        "plt.plot(fpr, tpr, color='darkorange', lw=2, label='ROC curve (area = %0.2f)' % roc_auc)\n",
        "plt.plot([0, 1], [0, 1], color='navy', lw=2, linestyle='--')\n",
        "plt.xlim([0.0, 1.0])\n",
        "plt.ylim([0.0, 1.05])\n",
        "plt.xlabel('False Positive Rate')\n",
        "plt.ylabel('True Positive Rate')\n",
        "plt.title('Receiver Operating Characteristic (ROC) Curve')\n",
        "plt.legend(loc=\"lower right\")\n",
        "plt.show()\n",
        "\n",
        "print(\"AUC:\", roc_auc)\n"
      ]
    },
    {
      "cell_type": "code",
      "source": [
        "from tensorflow.keras.models import load_model\n",
        "model.save('/content/drive/MyDrive/Data/DeepModel.hdf5')"
      ],
      "metadata": {
        "id": "49qJlgt9qoIR"
      },
      "execution_count": 66,
      "outputs": []
    },
    {
      "cell_type": "code",
      "source": [
        "import streamlit as st\n",
        "import tensorflow as tf\n",
        "from PIL import Image\n",
        "import numpy as np\n",
        "\n",
        "# Load your trained model\n",
        "model_path = '/content/drive/MyDrive/Data/DeepModel.hdf5'\n",
        "model = tf.keras.models.load_model(model_path)\n",
        "\n",
        "# Function to make predictions\n",
        "def predict(image):\n",
        "    # Preprocess the image\n",
        "    image = np.array(image.resize((128, 128))) / 255.0  # Resize and normalize\n",
        "    image = np.expand_dims(image, axis=0)  # Add batch dimension\n",
        "\n",
        "    # Make prediction\n",
        "    prediction = model.predict(image)\n",
        "\n",
        "    # Decode prediction into class labels\n",
        "    if prediction[0][0] < 0.5:\n",
        "        prediction_label = 'Authentic'\n",
        "    else:\n",
        "        prediction_label = 'Forged'\n",
        "\n",
        "    return prediction_label\n",
        "\n",
        "# Streamlit UI\n",
        "st.title('Image Forgery Detection')\n",
        "st.write('Upload an image for prediction')\n",
        "\n",
        "# File upload\n",
        "uploaded_file = st.file_uploader(\"Choose an image...\", type=[\"jpg\", \"jpeg\", \"png\"])\n",
        "\n",
        "# Prediction logic\n",
        "if uploaded_file is not None:\n",
        "    # Display uploaded image\n",
        "    image = Image.open(uploaded_file)\n",
        "    st.image(image, caption='Uploaded Image', use_column_width=True)\n",
        "\n",
        "    # Make prediction\n",
        "    prediction = predict(image)\n",
        "\n",
        "    # Display prediction results\n",
        "    st.write('Prediction:')\n",
        "    st.write(prediction)\n"
      ],
      "metadata": {
        "id": "-R37XpCgzBj-"
      },
      "execution_count": null,
      "outputs": []
    },
    {
      "cell_type": "code",
      "source": [
        "!wget -q -O - ipv4.icanhazip.com\n"
      ],
      "metadata": {
        "colab": {
          "base_uri": "https://localhost:8080/",
          "height": 0
        },
        "id": "IKEArMN9sRsU",
        "outputId": "cbac7cdf-8b58-4fa9-fdd1-9196bd42bb0e"
      },
      "execution_count": 98,
      "outputs": [
        {
          "output_type": "stream",
          "name": "stdout",
          "text": [
            "35.237.73.195\n"
          ]
        }
      ]
    },
    {
      "cell_type": "code",
      "source": [
        "! streamlit run app.py & npx localtunnel --port 8501"
      ],
      "metadata": {
        "colab": {
          "base_uri": "https://localhost:8080/"
        },
        "id": "RMHa9WcrsU2G",
        "outputId": "98f46524-3398-4a2b-e8cc-9e7f857854d1"
      },
      "execution_count": 2,
      "outputs": [
        {
          "output_type": "stream",
          "name": "stdout",
          "text": [
            "/bin/bash: line 1: streamlit: command not found\n",
            "\u001b[K\u001b[?25hnpx: installed 22 in 2.38s\n",
            "^C\n"
          ]
        }
      ]
    }
  ],
  "metadata": {
    "colab": {
      "provenance": []
    },
    "kernelspec": {
      "display_name": "Python 3",
      "name": "python3"
    },
    "language_info": {
      "codemirror_mode": {
        "name": "ipython",
        "version": 3
      },
      "file_extension": ".py",
      "mimetype": "text/x-python",
      "name": "python",
      "nbconvert_exporter": "python",
      "pygments_lexer": "ipython3",
      "version": "3.12.0"
    },
    "widgets": {
      "application/vnd.jupyter.widget-state+json": {
        "3ec7d26aa68b4869a2b11fb0361940a2": {
          "model_module": "@jupyter-widgets/controls",
          "model_name": "HBoxModel",
          "model_module_version": "1.5.0",
          "state": {
            "_dom_classes": [],
            "_model_module": "@jupyter-widgets/controls",
            "_model_module_version": "1.5.0",
            "_model_name": "HBoxModel",
            "_view_count": null,
            "_view_module": "@jupyter-widgets/controls",
            "_view_module_version": "1.5.0",
            "_view_name": "HBoxView",
            "box_style": "",
            "children": [
              "IPY_MODEL_2cbb9591faff4adc84aea4b22cc65b20",
              "IPY_MODEL_6779df0f9a534ace9408e04ce05db500",
              "IPY_MODEL_d40c2385678b41b199ad5bc2215d44c6"
            ],
            "layout": "IPY_MODEL_7993d4376ff448f5b58581e443547cf1"
          }
        },
        "2cbb9591faff4adc84aea4b22cc65b20": {
          "model_module": "@jupyter-widgets/controls",
          "model_name": "HTMLModel",
          "model_module_version": "1.5.0",
          "state": {
            "_dom_classes": [],
            "_model_module": "@jupyter-widgets/controls",
            "_model_module_version": "1.5.0",
            "_model_name": "HTMLModel",
            "_view_count": null,
            "_view_module": "@jupyter-widgets/controls",
            "_view_module_version": "1.5.0",
            "_view_name": "HTMLView",
            "description": "",
            "description_tooltip": null,
            "layout": "IPY_MODEL_6457e6c3ae904983a12b33be7b508188",
            "placeholder": "​",
            "style": "IPY_MODEL_0540e7c9db2b426c8152239a98672463",
            "value": "Processing Images : 100%"
          }
        },
        "6779df0f9a534ace9408e04ce05db500": {
          "model_module": "@jupyter-widgets/controls",
          "model_name": "FloatProgressModel",
          "model_module_version": "1.5.0",
          "state": {
            "_dom_classes": [],
            "_model_module": "@jupyter-widgets/controls",
            "_model_module_version": "1.5.0",
            "_model_name": "FloatProgressModel",
            "_view_count": null,
            "_view_module": "@jupyter-widgets/controls",
            "_view_module_version": "1.5.0",
            "_view_name": "ProgressView",
            "bar_style": "success",
            "description": "",
            "description_tooltip": null,
            "layout": "IPY_MODEL_32b2c1349dee471582a2ef8310003cb6",
            "max": 800,
            "min": 0,
            "orientation": "horizontal",
            "style": "IPY_MODEL_a59b5e01d8584d99a342b3abf19be168",
            "value": 800
          }
        },
        "d40c2385678b41b199ad5bc2215d44c6": {
          "model_module": "@jupyter-widgets/controls",
          "model_name": "HTMLModel",
          "model_module_version": "1.5.0",
          "state": {
            "_dom_classes": [],
            "_model_module": "@jupyter-widgets/controls",
            "_model_module_version": "1.5.0",
            "_model_name": "HTMLModel",
            "_view_count": null,
            "_view_module": "@jupyter-widgets/controls",
            "_view_module_version": "1.5.0",
            "_view_name": "HTMLView",
            "description": "",
            "description_tooltip": null,
            "layout": "IPY_MODEL_161c25837ff94dbe9246f9498f4bd631",
            "placeholder": "​",
            "style": "IPY_MODEL_c807e848c28044d88299ff9b8f4d3af7",
            "value": " 800/800 [00:55&lt;00:00, 17.85it/s]"
          }
        },
        "7993d4376ff448f5b58581e443547cf1": {
          "model_module": "@jupyter-widgets/base",
          "model_name": "LayoutModel",
          "model_module_version": "1.2.0",
          "state": {
            "_model_module": "@jupyter-widgets/base",
            "_model_module_version": "1.2.0",
            "_model_name": "LayoutModel",
            "_view_count": null,
            "_view_module": "@jupyter-widgets/base",
            "_view_module_version": "1.2.0",
            "_view_name": "LayoutView",
            "align_content": null,
            "align_items": null,
            "align_self": null,
            "border": null,
            "bottom": null,
            "display": null,
            "flex": null,
            "flex_flow": null,
            "grid_area": null,
            "grid_auto_columns": null,
            "grid_auto_flow": null,
            "grid_auto_rows": null,
            "grid_column": null,
            "grid_gap": null,
            "grid_row": null,
            "grid_template_areas": null,
            "grid_template_columns": null,
            "grid_template_rows": null,
            "height": null,
            "justify_content": null,
            "justify_items": null,
            "left": null,
            "margin": null,
            "max_height": null,
            "max_width": null,
            "min_height": null,
            "min_width": null,
            "object_fit": null,
            "object_position": null,
            "order": null,
            "overflow": null,
            "overflow_x": null,
            "overflow_y": null,
            "padding": null,
            "right": null,
            "top": null,
            "visibility": null,
            "width": null
          }
        },
        "6457e6c3ae904983a12b33be7b508188": {
          "model_module": "@jupyter-widgets/base",
          "model_name": "LayoutModel",
          "model_module_version": "1.2.0",
          "state": {
            "_model_module": "@jupyter-widgets/base",
            "_model_module_version": "1.2.0",
            "_model_name": "LayoutModel",
            "_view_count": null,
            "_view_module": "@jupyter-widgets/base",
            "_view_module_version": "1.2.0",
            "_view_name": "LayoutView",
            "align_content": null,
            "align_items": null,
            "align_self": null,
            "border": null,
            "bottom": null,
            "display": null,
            "flex": null,
            "flex_flow": null,
            "grid_area": null,
            "grid_auto_columns": null,
            "grid_auto_flow": null,
            "grid_auto_rows": null,
            "grid_column": null,
            "grid_gap": null,
            "grid_row": null,
            "grid_template_areas": null,
            "grid_template_columns": null,
            "grid_template_rows": null,
            "height": null,
            "justify_content": null,
            "justify_items": null,
            "left": null,
            "margin": null,
            "max_height": null,
            "max_width": null,
            "min_height": null,
            "min_width": null,
            "object_fit": null,
            "object_position": null,
            "order": null,
            "overflow": null,
            "overflow_x": null,
            "overflow_y": null,
            "padding": null,
            "right": null,
            "top": null,
            "visibility": null,
            "width": null
          }
        },
        "0540e7c9db2b426c8152239a98672463": {
          "model_module": "@jupyter-widgets/controls",
          "model_name": "DescriptionStyleModel",
          "model_module_version": "1.5.0",
          "state": {
            "_model_module": "@jupyter-widgets/controls",
            "_model_module_version": "1.5.0",
            "_model_name": "DescriptionStyleModel",
            "_view_count": null,
            "_view_module": "@jupyter-widgets/base",
            "_view_module_version": "1.2.0",
            "_view_name": "StyleView",
            "description_width": ""
          }
        },
        "32b2c1349dee471582a2ef8310003cb6": {
          "model_module": "@jupyter-widgets/base",
          "model_name": "LayoutModel",
          "model_module_version": "1.2.0",
          "state": {
            "_model_module": "@jupyter-widgets/base",
            "_model_module_version": "1.2.0",
            "_model_name": "LayoutModel",
            "_view_count": null,
            "_view_module": "@jupyter-widgets/base",
            "_view_module_version": "1.2.0",
            "_view_name": "LayoutView",
            "align_content": null,
            "align_items": null,
            "align_self": null,
            "border": null,
            "bottom": null,
            "display": null,
            "flex": null,
            "flex_flow": null,
            "grid_area": null,
            "grid_auto_columns": null,
            "grid_auto_flow": null,
            "grid_auto_rows": null,
            "grid_column": null,
            "grid_gap": null,
            "grid_row": null,
            "grid_template_areas": null,
            "grid_template_columns": null,
            "grid_template_rows": null,
            "height": null,
            "justify_content": null,
            "justify_items": null,
            "left": null,
            "margin": null,
            "max_height": null,
            "max_width": null,
            "min_height": null,
            "min_width": null,
            "object_fit": null,
            "object_position": null,
            "order": null,
            "overflow": null,
            "overflow_x": null,
            "overflow_y": null,
            "padding": null,
            "right": null,
            "top": null,
            "visibility": null,
            "width": null
          }
        },
        "a59b5e01d8584d99a342b3abf19be168": {
          "model_module": "@jupyter-widgets/controls",
          "model_name": "ProgressStyleModel",
          "model_module_version": "1.5.0",
          "state": {
            "_model_module": "@jupyter-widgets/controls",
            "_model_module_version": "1.5.0",
            "_model_name": "ProgressStyleModel",
            "_view_count": null,
            "_view_module": "@jupyter-widgets/base",
            "_view_module_version": "1.2.0",
            "_view_name": "StyleView",
            "bar_color": null,
            "description_width": ""
          }
        },
        "161c25837ff94dbe9246f9498f4bd631": {
          "model_module": "@jupyter-widgets/base",
          "model_name": "LayoutModel",
          "model_module_version": "1.2.0",
          "state": {
            "_model_module": "@jupyter-widgets/base",
            "_model_module_version": "1.2.0",
            "_model_name": "LayoutModel",
            "_view_count": null,
            "_view_module": "@jupyter-widgets/base",
            "_view_module_version": "1.2.0",
            "_view_name": "LayoutView",
            "align_content": null,
            "align_items": null,
            "align_self": null,
            "border": null,
            "bottom": null,
            "display": null,
            "flex": null,
            "flex_flow": null,
            "grid_area": null,
            "grid_auto_columns": null,
            "grid_auto_flow": null,
            "grid_auto_rows": null,
            "grid_column": null,
            "grid_gap": null,
            "grid_row": null,
            "grid_template_areas": null,
            "grid_template_columns": null,
            "grid_template_rows": null,
            "height": null,
            "justify_content": null,
            "justify_items": null,
            "left": null,
            "margin": null,
            "max_height": null,
            "max_width": null,
            "min_height": null,
            "min_width": null,
            "object_fit": null,
            "object_position": null,
            "order": null,
            "overflow": null,
            "overflow_x": null,
            "overflow_y": null,
            "padding": null,
            "right": null,
            "top": null,
            "visibility": null,
            "width": null
          }
        },
        "c807e848c28044d88299ff9b8f4d3af7": {
          "model_module": "@jupyter-widgets/controls",
          "model_name": "DescriptionStyleModel",
          "model_module_version": "1.5.0",
          "state": {
            "_model_module": "@jupyter-widgets/controls",
            "_model_module_version": "1.5.0",
            "_model_name": "DescriptionStyleModel",
            "_view_count": null,
            "_view_module": "@jupyter-widgets/base",
            "_view_module_version": "1.2.0",
            "_view_name": "StyleView",
            "description_width": ""
          }
        },
        "2bc65110e0ff4141a667cb2d16a29701": {
          "model_module": "@jupyter-widgets/controls",
          "model_name": "HBoxModel",
          "model_module_version": "1.5.0",
          "state": {
            "_dom_classes": [],
            "_model_module": "@jupyter-widgets/controls",
            "_model_module_version": "1.5.0",
            "_model_name": "HBoxModel",
            "_view_count": null,
            "_view_module": "@jupyter-widgets/controls",
            "_view_module_version": "1.5.0",
            "_view_name": "HBoxView",
            "box_style": "",
            "children": [
              "IPY_MODEL_53426cae4c134f3dadeba51fa9ea45d3",
              "IPY_MODEL_1ab5bce3ed274d46a935db7d79716e76",
              "IPY_MODEL_4a7428a580934d67ac01533f330dea5d"
            ],
            "layout": "IPY_MODEL_799bf51ccee040259da73e60d3fda474"
          }
        },
        "53426cae4c134f3dadeba51fa9ea45d3": {
          "model_module": "@jupyter-widgets/controls",
          "model_name": "HTMLModel",
          "model_module_version": "1.5.0",
          "state": {
            "_dom_classes": [],
            "_model_module": "@jupyter-widgets/controls",
            "_model_module_version": "1.5.0",
            "_model_name": "HTMLModel",
            "_view_count": null,
            "_view_module": "@jupyter-widgets/controls",
            "_view_module_version": "1.5.0",
            "_view_name": "HTMLView",
            "description": "",
            "description_tooltip": null,
            "layout": "IPY_MODEL_153d557e240a4083818ad2620e44defa",
            "placeholder": "​",
            "style": "IPY_MODEL_c5b92344fdf74b15ba7d67df2ac7b683",
            "value": "Processing Images : 100%"
          }
        },
        "1ab5bce3ed274d46a935db7d79716e76": {
          "model_module": "@jupyter-widgets/controls",
          "model_name": "FloatProgressModel",
          "model_module_version": "1.5.0",
          "state": {
            "_dom_classes": [],
            "_model_module": "@jupyter-widgets/controls",
            "_model_module_version": "1.5.0",
            "_model_name": "FloatProgressModel",
            "_view_count": null,
            "_view_module": "@jupyter-widgets/controls",
            "_view_module_version": "1.5.0",
            "_view_name": "ProgressView",
            "bar_style": "success",
            "description": "",
            "description_tooltip": null,
            "layout": "IPY_MODEL_1971b21b53ed44b88146ea5112f7050e",
            "max": 921,
            "min": 0,
            "orientation": "horizontal",
            "style": "IPY_MODEL_2caa0e87d9bb49c7a7e3680f8930db30",
            "value": 921
          }
        },
        "4a7428a580934d67ac01533f330dea5d": {
          "model_module": "@jupyter-widgets/controls",
          "model_name": "HTMLModel",
          "model_module_version": "1.5.0",
          "state": {
            "_dom_classes": [],
            "_model_module": "@jupyter-widgets/controls",
            "_model_module_version": "1.5.0",
            "_model_name": "HTMLModel",
            "_view_count": null,
            "_view_module": "@jupyter-widgets/controls",
            "_view_module_version": "1.5.0",
            "_view_name": "HTMLView",
            "description": "",
            "description_tooltip": null,
            "layout": "IPY_MODEL_816fee3bf95f4b56b698228cb232f43d",
            "placeholder": "​",
            "style": "IPY_MODEL_4c4f1e8da59f41f391ac2fdbbb8b956f",
            "value": " 921/921 [01:22&lt;00:00, 15.71it/s]"
          }
        },
        "799bf51ccee040259da73e60d3fda474": {
          "model_module": "@jupyter-widgets/base",
          "model_name": "LayoutModel",
          "model_module_version": "1.2.0",
          "state": {
            "_model_module": "@jupyter-widgets/base",
            "_model_module_version": "1.2.0",
            "_model_name": "LayoutModel",
            "_view_count": null,
            "_view_module": "@jupyter-widgets/base",
            "_view_module_version": "1.2.0",
            "_view_name": "LayoutView",
            "align_content": null,
            "align_items": null,
            "align_self": null,
            "border": null,
            "bottom": null,
            "display": null,
            "flex": null,
            "flex_flow": null,
            "grid_area": null,
            "grid_auto_columns": null,
            "grid_auto_flow": null,
            "grid_auto_rows": null,
            "grid_column": null,
            "grid_gap": null,
            "grid_row": null,
            "grid_template_areas": null,
            "grid_template_columns": null,
            "grid_template_rows": null,
            "height": null,
            "justify_content": null,
            "justify_items": null,
            "left": null,
            "margin": null,
            "max_height": null,
            "max_width": null,
            "min_height": null,
            "min_width": null,
            "object_fit": null,
            "object_position": null,
            "order": null,
            "overflow": null,
            "overflow_x": null,
            "overflow_y": null,
            "padding": null,
            "right": null,
            "top": null,
            "visibility": null,
            "width": null
          }
        },
        "153d557e240a4083818ad2620e44defa": {
          "model_module": "@jupyter-widgets/base",
          "model_name": "LayoutModel",
          "model_module_version": "1.2.0",
          "state": {
            "_model_module": "@jupyter-widgets/base",
            "_model_module_version": "1.2.0",
            "_model_name": "LayoutModel",
            "_view_count": null,
            "_view_module": "@jupyter-widgets/base",
            "_view_module_version": "1.2.0",
            "_view_name": "LayoutView",
            "align_content": null,
            "align_items": null,
            "align_self": null,
            "border": null,
            "bottom": null,
            "display": null,
            "flex": null,
            "flex_flow": null,
            "grid_area": null,
            "grid_auto_columns": null,
            "grid_auto_flow": null,
            "grid_auto_rows": null,
            "grid_column": null,
            "grid_gap": null,
            "grid_row": null,
            "grid_template_areas": null,
            "grid_template_columns": null,
            "grid_template_rows": null,
            "height": null,
            "justify_content": null,
            "justify_items": null,
            "left": null,
            "margin": null,
            "max_height": null,
            "max_width": null,
            "min_height": null,
            "min_width": null,
            "object_fit": null,
            "object_position": null,
            "order": null,
            "overflow": null,
            "overflow_x": null,
            "overflow_y": null,
            "padding": null,
            "right": null,
            "top": null,
            "visibility": null,
            "width": null
          }
        },
        "c5b92344fdf74b15ba7d67df2ac7b683": {
          "model_module": "@jupyter-widgets/controls",
          "model_name": "DescriptionStyleModel",
          "model_module_version": "1.5.0",
          "state": {
            "_model_module": "@jupyter-widgets/controls",
            "_model_module_version": "1.5.0",
            "_model_name": "DescriptionStyleModel",
            "_view_count": null,
            "_view_module": "@jupyter-widgets/base",
            "_view_module_version": "1.2.0",
            "_view_name": "StyleView",
            "description_width": ""
          }
        },
        "1971b21b53ed44b88146ea5112f7050e": {
          "model_module": "@jupyter-widgets/base",
          "model_name": "LayoutModel",
          "model_module_version": "1.2.0",
          "state": {
            "_model_module": "@jupyter-widgets/base",
            "_model_module_version": "1.2.0",
            "_model_name": "LayoutModel",
            "_view_count": null,
            "_view_module": "@jupyter-widgets/base",
            "_view_module_version": "1.2.0",
            "_view_name": "LayoutView",
            "align_content": null,
            "align_items": null,
            "align_self": null,
            "border": null,
            "bottom": null,
            "display": null,
            "flex": null,
            "flex_flow": null,
            "grid_area": null,
            "grid_auto_columns": null,
            "grid_auto_flow": null,
            "grid_auto_rows": null,
            "grid_column": null,
            "grid_gap": null,
            "grid_row": null,
            "grid_template_areas": null,
            "grid_template_columns": null,
            "grid_template_rows": null,
            "height": null,
            "justify_content": null,
            "justify_items": null,
            "left": null,
            "margin": null,
            "max_height": null,
            "max_width": null,
            "min_height": null,
            "min_width": null,
            "object_fit": null,
            "object_position": null,
            "order": null,
            "overflow": null,
            "overflow_x": null,
            "overflow_y": null,
            "padding": null,
            "right": null,
            "top": null,
            "visibility": null,
            "width": null
          }
        },
        "2caa0e87d9bb49c7a7e3680f8930db30": {
          "model_module": "@jupyter-widgets/controls",
          "model_name": "ProgressStyleModel",
          "model_module_version": "1.5.0",
          "state": {
            "_model_module": "@jupyter-widgets/controls",
            "_model_module_version": "1.5.0",
            "_model_name": "ProgressStyleModel",
            "_view_count": null,
            "_view_module": "@jupyter-widgets/base",
            "_view_module_version": "1.2.0",
            "_view_name": "StyleView",
            "bar_color": null,
            "description_width": ""
          }
        },
        "816fee3bf95f4b56b698228cb232f43d": {
          "model_module": "@jupyter-widgets/base",
          "model_name": "LayoutModel",
          "model_module_version": "1.2.0",
          "state": {
            "_model_module": "@jupyter-widgets/base",
            "_model_module_version": "1.2.0",
            "_model_name": "LayoutModel",
            "_view_count": null,
            "_view_module": "@jupyter-widgets/base",
            "_view_module_version": "1.2.0",
            "_view_name": "LayoutView",
            "align_content": null,
            "align_items": null,
            "align_self": null,
            "border": null,
            "bottom": null,
            "display": null,
            "flex": null,
            "flex_flow": null,
            "grid_area": null,
            "grid_auto_columns": null,
            "grid_auto_flow": null,
            "grid_auto_rows": null,
            "grid_column": null,
            "grid_gap": null,
            "grid_row": null,
            "grid_template_areas": null,
            "grid_template_columns": null,
            "grid_template_rows": null,
            "height": null,
            "justify_content": null,
            "justify_items": null,
            "left": null,
            "margin": null,
            "max_height": null,
            "max_width": null,
            "min_height": null,
            "min_width": null,
            "object_fit": null,
            "object_position": null,
            "order": null,
            "overflow": null,
            "overflow_x": null,
            "overflow_y": null,
            "padding": null,
            "right": null,
            "top": null,
            "visibility": null,
            "width": null
          }
        },
        "4c4f1e8da59f41f391ac2fdbbb8b956f": {
          "model_module": "@jupyter-widgets/controls",
          "model_name": "DescriptionStyleModel",
          "model_module_version": "1.5.0",
          "state": {
            "_model_module": "@jupyter-widgets/controls",
            "_model_module_version": "1.5.0",
            "_model_name": "DescriptionStyleModel",
            "_view_count": null,
            "_view_module": "@jupyter-widgets/base",
            "_view_module_version": "1.2.0",
            "_view_name": "StyleView",
            "description_width": ""
          }
        },
        "1e904c49558448d2a59b798aa8f1502d": {
          "model_module": "@jupyter-widgets/controls",
          "model_name": "HBoxModel",
          "model_module_version": "1.5.0",
          "state": {
            "_dom_classes": [],
            "_model_module": "@jupyter-widgets/controls",
            "_model_module_version": "1.5.0",
            "_model_name": "HBoxModel",
            "_view_count": null,
            "_view_module": "@jupyter-widgets/controls",
            "_view_module_version": "1.5.0",
            "_view_name": "HBoxView",
            "box_style": "",
            "children": [
              "IPY_MODEL_647481a757624f68a5f732a0d70e0c34",
              "IPY_MODEL_d4ec9c68e82f48039714d659c6c11996",
              "IPY_MODEL_6670d50045f7450eac79109238df7199"
            ],
            "layout": "IPY_MODEL_18c361f05b4e4ca7ab27b281cb4581aa"
          }
        },
        "647481a757624f68a5f732a0d70e0c34": {
          "model_module": "@jupyter-widgets/controls",
          "model_name": "HTMLModel",
          "model_module_version": "1.5.0",
          "state": {
            "_dom_classes": [],
            "_model_module": "@jupyter-widgets/controls",
            "_model_module_version": "1.5.0",
            "_model_name": "HTMLModel",
            "_view_count": null,
            "_view_module": "@jupyter-widgets/controls",
            "_view_module_version": "1.5.0",
            "_view_name": "HTMLView",
            "description": "",
            "description_tooltip": null,
            "layout": "IPY_MODEL_a39bef3dfa0940a283efaee37a208bef",
            "placeholder": "​",
            "style": "IPY_MODEL_722bd18b30844600b5d56b923371e7fb",
            "value": "Processing Images : 100%"
          }
        },
        "d4ec9c68e82f48039714d659c6c11996": {
          "model_module": "@jupyter-widgets/controls",
          "model_name": "FloatProgressModel",
          "model_module_version": "1.5.0",
          "state": {
            "_dom_classes": [],
            "_model_module": "@jupyter-widgets/controls",
            "_model_module_version": "1.5.0",
            "_model_name": "FloatProgressModel",
            "_view_count": null,
            "_view_module": "@jupyter-widgets/controls",
            "_view_module_version": "1.5.0",
            "_view_name": "ProgressView",
            "bar_style": "success",
            "description": "",
            "description_tooltip": null,
            "layout": "IPY_MODEL_477bfe32e33544a69e7e77e77a3e531c",
            "max": 86,
            "min": 0,
            "orientation": "horizontal",
            "style": "IPY_MODEL_dfbd730c96214007bfe705101b735eef",
            "value": 86
          }
        },
        "6670d50045f7450eac79109238df7199": {
          "model_module": "@jupyter-widgets/controls",
          "model_name": "HTMLModel",
          "model_module_version": "1.5.0",
          "state": {
            "_dom_classes": [],
            "_model_module": "@jupyter-widgets/controls",
            "_model_module_version": "1.5.0",
            "_model_name": "HTMLModel",
            "_view_count": null,
            "_view_module": "@jupyter-widgets/controls",
            "_view_module_version": "1.5.0",
            "_view_name": "HTMLView",
            "description": "",
            "description_tooltip": null,
            "layout": "IPY_MODEL_4b57e788c84c4842a1ae9d9d46e6e52c",
            "placeholder": "​",
            "style": "IPY_MODEL_19d087eeb4ba4277ac80d2fd1e314644",
            "value": " 86/86 [00:22&lt;00:00,  3.37it/s]"
          }
        },
        "18c361f05b4e4ca7ab27b281cb4581aa": {
          "model_module": "@jupyter-widgets/base",
          "model_name": "LayoutModel",
          "model_module_version": "1.2.0",
          "state": {
            "_model_module": "@jupyter-widgets/base",
            "_model_module_version": "1.2.0",
            "_model_name": "LayoutModel",
            "_view_count": null,
            "_view_module": "@jupyter-widgets/base",
            "_view_module_version": "1.2.0",
            "_view_name": "LayoutView",
            "align_content": null,
            "align_items": null,
            "align_self": null,
            "border": null,
            "bottom": null,
            "display": null,
            "flex": null,
            "flex_flow": null,
            "grid_area": null,
            "grid_auto_columns": null,
            "grid_auto_flow": null,
            "grid_auto_rows": null,
            "grid_column": null,
            "grid_gap": null,
            "grid_row": null,
            "grid_template_areas": null,
            "grid_template_columns": null,
            "grid_template_rows": null,
            "height": null,
            "justify_content": null,
            "justify_items": null,
            "left": null,
            "margin": null,
            "max_height": null,
            "max_width": null,
            "min_height": null,
            "min_width": null,
            "object_fit": null,
            "object_position": null,
            "order": null,
            "overflow": null,
            "overflow_x": null,
            "overflow_y": null,
            "padding": null,
            "right": null,
            "top": null,
            "visibility": null,
            "width": null
          }
        },
        "a39bef3dfa0940a283efaee37a208bef": {
          "model_module": "@jupyter-widgets/base",
          "model_name": "LayoutModel",
          "model_module_version": "1.2.0",
          "state": {
            "_model_module": "@jupyter-widgets/base",
            "_model_module_version": "1.2.0",
            "_model_name": "LayoutModel",
            "_view_count": null,
            "_view_module": "@jupyter-widgets/base",
            "_view_module_version": "1.2.0",
            "_view_name": "LayoutView",
            "align_content": null,
            "align_items": null,
            "align_self": null,
            "border": null,
            "bottom": null,
            "display": null,
            "flex": null,
            "flex_flow": null,
            "grid_area": null,
            "grid_auto_columns": null,
            "grid_auto_flow": null,
            "grid_auto_rows": null,
            "grid_column": null,
            "grid_gap": null,
            "grid_row": null,
            "grid_template_areas": null,
            "grid_template_columns": null,
            "grid_template_rows": null,
            "height": null,
            "justify_content": null,
            "justify_items": null,
            "left": null,
            "margin": null,
            "max_height": null,
            "max_width": null,
            "min_height": null,
            "min_width": null,
            "object_fit": null,
            "object_position": null,
            "order": null,
            "overflow": null,
            "overflow_x": null,
            "overflow_y": null,
            "padding": null,
            "right": null,
            "top": null,
            "visibility": null,
            "width": null
          }
        },
        "722bd18b30844600b5d56b923371e7fb": {
          "model_module": "@jupyter-widgets/controls",
          "model_name": "DescriptionStyleModel",
          "model_module_version": "1.5.0",
          "state": {
            "_model_module": "@jupyter-widgets/controls",
            "_model_module_version": "1.5.0",
            "_model_name": "DescriptionStyleModel",
            "_view_count": null,
            "_view_module": "@jupyter-widgets/base",
            "_view_module_version": "1.2.0",
            "_view_name": "StyleView",
            "description_width": ""
          }
        },
        "477bfe32e33544a69e7e77e77a3e531c": {
          "model_module": "@jupyter-widgets/base",
          "model_name": "LayoutModel",
          "model_module_version": "1.2.0",
          "state": {
            "_model_module": "@jupyter-widgets/base",
            "_model_module_version": "1.2.0",
            "_model_name": "LayoutModel",
            "_view_count": null,
            "_view_module": "@jupyter-widgets/base",
            "_view_module_version": "1.2.0",
            "_view_name": "LayoutView",
            "align_content": null,
            "align_items": null,
            "align_self": null,
            "border": null,
            "bottom": null,
            "display": null,
            "flex": null,
            "flex_flow": null,
            "grid_area": null,
            "grid_auto_columns": null,
            "grid_auto_flow": null,
            "grid_auto_rows": null,
            "grid_column": null,
            "grid_gap": null,
            "grid_row": null,
            "grid_template_areas": null,
            "grid_template_columns": null,
            "grid_template_rows": null,
            "height": null,
            "justify_content": null,
            "justify_items": null,
            "left": null,
            "margin": null,
            "max_height": null,
            "max_width": null,
            "min_height": null,
            "min_width": null,
            "object_fit": null,
            "object_position": null,
            "order": null,
            "overflow": null,
            "overflow_x": null,
            "overflow_y": null,
            "padding": null,
            "right": null,
            "top": null,
            "visibility": null,
            "width": null
          }
        },
        "dfbd730c96214007bfe705101b735eef": {
          "model_module": "@jupyter-widgets/controls",
          "model_name": "ProgressStyleModel",
          "model_module_version": "1.5.0",
          "state": {
            "_model_module": "@jupyter-widgets/controls",
            "_model_module_version": "1.5.0",
            "_model_name": "ProgressStyleModel",
            "_view_count": null,
            "_view_module": "@jupyter-widgets/base",
            "_view_module_version": "1.2.0",
            "_view_name": "StyleView",
            "bar_color": null,
            "description_width": ""
          }
        },
        "4b57e788c84c4842a1ae9d9d46e6e52c": {
          "model_module": "@jupyter-widgets/base",
          "model_name": "LayoutModel",
          "model_module_version": "1.2.0",
          "state": {
            "_model_module": "@jupyter-widgets/base",
            "_model_module_version": "1.2.0",
            "_model_name": "LayoutModel",
            "_view_count": null,
            "_view_module": "@jupyter-widgets/base",
            "_view_module_version": "1.2.0",
            "_view_name": "LayoutView",
            "align_content": null,
            "align_items": null,
            "align_self": null,
            "border": null,
            "bottom": null,
            "display": null,
            "flex": null,
            "flex_flow": null,
            "grid_area": null,
            "grid_auto_columns": null,
            "grid_auto_flow": null,
            "grid_auto_rows": null,
            "grid_column": null,
            "grid_gap": null,
            "grid_row": null,
            "grid_template_areas": null,
            "grid_template_columns": null,
            "grid_template_rows": null,
            "height": null,
            "justify_content": null,
            "justify_items": null,
            "left": null,
            "margin": null,
            "max_height": null,
            "max_width": null,
            "min_height": null,
            "min_width": null,
            "object_fit": null,
            "object_position": null,
            "order": null,
            "overflow": null,
            "overflow_x": null,
            "overflow_y": null,
            "padding": null,
            "right": null,
            "top": null,
            "visibility": null,
            "width": null
          }
        },
        "19d087eeb4ba4277ac80d2fd1e314644": {
          "model_module": "@jupyter-widgets/controls",
          "model_name": "DescriptionStyleModel",
          "model_module_version": "1.5.0",
          "state": {
            "_model_module": "@jupyter-widgets/controls",
            "_model_module_version": "1.5.0",
            "_model_name": "DescriptionStyleModel",
            "_view_count": null,
            "_view_module": "@jupyter-widgets/base",
            "_view_module_version": "1.2.0",
            "_view_name": "StyleView",
            "description_width": ""
          }
        }
      }
    }
  },
  "nbformat": 4,
  "nbformat_minor": 0
}